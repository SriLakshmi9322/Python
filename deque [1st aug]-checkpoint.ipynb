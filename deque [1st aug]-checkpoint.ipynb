{
 "cells": [
  {
   "cell_type": "markdown",
   "id": "2bba530e",
   "metadata": {},
   "source": [
    "# deque implementation"
   ]
  },
  {
   "cell_type": "code",
   "execution_count": null,
   "id": "be5ccfe7",
   "metadata": {},
   "outputs": [],
   "source": [
    "from collections import deque\n",
    "# Create empty deque\n",
    "d = deque()\n",
    "ch = 0\n",
    "while ch<7:\n",
    "    print('1: Add element at front')\n",
    "    print('2: Add element at rear')\n",
    "    print('3: Remove element at front')\n",
    "    print('4: Remove element at rear')\n",
    "    print('5: Remove element in the middle ')\n",
    "    print('6: Search for element ')\n",
    "    print('7: Exit')\n",
    "    ch = int(input('Enter your choice: '))\n",
    "    if ch == 1:\n",
    "        element=input('Enter element: ')\n",
    "        d.appendleft(element)\n",
    "    elif ch == 2:\n",
    "        element=int(input('Enter element: '))\n",
    "        d.append(element)\n",
    "    elif ch == 3:\n",
    "        if len(d) == 0:\n",
    "            print('deque is empty...')\n",
    "        else:\n",
    "            d.popleft()\n",
    "    elif ch == 4:\n",
    "        if len(d) == 0:\n",
    "            print('deque is empty...')\n",
    "        else:\n",
    "            d.pop()\n",
    "    elif ch == 5:\n",
    "        element = input('Enter element: ')\n",
    "        try:\n",
    "            d.remove(element)\n",
    "        except ValueError:\n",
    "            print('Element not found...')\n",
    "    elif ch == 6:\n",
    "        element = input('Enter element: ')\n",
    "        c=d.count(element)\n",
    "        print('No. of times the element is found...',c)\n",
    "    else:\n",
    "        break\n",
    "    # Display the elements from deque\n",
    "    print('Deque = ')\n",
    "    for i in d:\n",
    "        print(i,' ',)"
   ]
  }
 ],
 "metadata": {
  "kernelspec": {
   "display_name": "Python 3 (ipykernel)",
   "language": "python",
   "name": "python3"
  },
  "language_info": {
   "codemirror_mode": {
    "name": "ipython",
    "version": 3
   },
   "file_extension": ".py",
   "mimetype": "text/x-python",
   "name": "python",
   "nbconvert_exporter": "python",
   "pygments_lexer": "ipython3",
   "version": "3.9.12"
  }
 },
 "nbformat": 4,
 "nbformat_minor": 5
}
