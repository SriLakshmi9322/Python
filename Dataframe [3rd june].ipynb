{
 "cells": [
  {
   "cell_type": "markdown",
   "id": "78b03c36",
   "metadata": {},
   "source": [
    "## Create Data Frame from an excel spreadsheet"
   ]
  },
  {
   "cell_type": "code",
   "execution_count": null,
   "id": "6e030c07",
   "metadata": {},
   "outputs": [],
   "source": [
    "import pandas as pd"
   ]
  },
  {
   "cell_type": "code",
   "execution_count": null,
   "id": "c1cb9429",
   "metadata": {},
   "outputs": [],
   "source": [
    "# Loading data\n",
    "df = pd.read_excel(r\"C:\\Users\\HP\\Desktop\\pandas\\Book1.xlsx\")\n",
    "df"
   ]
  },
  {
   "cell_type": "markdown",
   "id": "fc7b94be",
   "metadata": {},
   "source": [
    "### Creating data frame from .csv file"
   ]
  },
  {
   "cell_type": "code",
   "execution_count": null,
   "id": "b44501e6",
   "metadata": {},
   "outputs": [],
   "source": [
    "df = pd.read_csv(r'C:\\Users\\HP\\Desktop\\pandas\\Book3.csv')\n",
    "df"
   ]
  },
  {
   "cell_type": "markdown",
   "id": "98b72b41",
   "metadata": {},
   "source": [
    "### Creating data frame from html file"
   ]
  },
  {
   "cell_type": "code",
   "execution_count": null,
   "id": "11240994",
   "metadata": {},
   "outputs": [],
   "source": [
    "df=pd.read_html('https://datatofish.com/read_excel/')\n",
    "df"
   ]
  },
  {
   "cell_type": "code",
   "execution_count": null,
   "id": "b9446e73",
   "metadata": {},
   "outputs": [],
   "source": [
    "df=pd.read_html('https://www.macrotrends.net/countries/IND/india/population')\n",
    "df[0]"
   ]
  },
  {
   "cell_type": "code",
   "execution_count": null,
   "id": "cfad8787",
   "metadata": {},
   "outputs": [],
   "source": [
    "df=pd.read_html('https://www.macrotrends.net/countries/IND/india/population')\n",
    "df[1]"
   ]
  },
  {
   "cell_type": "code",
   "execution_count": null,
   "id": "8fecf588",
   "metadata": {},
   "outputs": [],
   "source": []
  }
 ],
 "metadata": {
  "kernelspec": {
   "display_name": "Python 3 (ipykernel)",
   "language": "python",
   "name": "python3"
  },
  "language_info": {
   "codemirror_mode": {
    "name": "ipython",
    "version": 3
   },
   "file_extension": ".py",
   "mimetype": "text/x-python",
   "name": "python",
   "nbconvert_exporter": "python",
   "pygments_lexer": "ipython3",
   "version": "3.9.12"
  }
 },
 "nbformat": 4,
 "nbformat_minor": 5
}
