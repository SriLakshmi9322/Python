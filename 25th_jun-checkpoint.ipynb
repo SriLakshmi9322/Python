{
 "cells": [
  {
   "cell_type": "code",
   "execution_count": null,
   "id": "f9f15163",
   "metadata": {},
   "outputs": [],
   "source": [
    "## Creation of a list\n",
    "num=[10,20,30,40,50]\n",
    "print('Total list= ',num)"
   ]
  },
  {
   "cell_type": "code",
   "execution_count": null,
   "id": "e938b1ec",
   "metadata": {},
   "outputs": [],
   "source": [
    "print('First =%d,last =%d'%(num[0],num[4]))"
   ]
  },
  {
   "cell_type": "code",
   "execution_count": null,
   "id": "d5a3c7db",
   "metadata": {},
   "outputs": [],
   "source": [
    "# Create a list with string\n",
    "name=[\"ravi\",\"gopal\",\"suresh\",\"Naresh\"]\n",
    "print('Total list =',name)"
   ]
  },
  {
   "cell_type": "code",
   "execution_count": null,
   "id": "50c155ab",
   "metadata": {},
   "outputs": [],
   "source": [
    "print('First =%s,last =%s'%(name[0],name[3]))"
   ]
  },
  {
   "cell_type": "code",
   "execution_count": null,
   "id": "a4ab050f",
   "metadata": {},
   "outputs": [],
   "source": [
    "# create a list with different elements\n",
    "x=[10,20,10.5,'str',\"str1\"]\n",
    "print(x)"
   ]
  },
  {
   "cell_type": "markdown",
   "id": "920fa6c8",
   "metadata": {},
   "source": [
    "# create a list with range() function"
   ]
  },
  {
   "cell_type": "code",
   "execution_count": null,
   "id": "07df64ce",
   "metadata": {},
   "outputs": [],
   "source": [
    "# range(start,stop,stepsize)\n",
    "x=range(10)\n",
    "for i in x:\n",
    "    print(i,' ',end=' ')"
   ]
  },
  {
   "cell_type": "code",
   "execution_count": null,
   "id": "bf7ba47c",
   "metadata": {},
   "outputs": [],
   "source": [
    "y=range(5,10)\n",
    "for i in y:\n",
    "    print(i,' ',end=' ')"
   ]
  },
  {
   "cell_type": "code",
   "execution_count": null,
   "id": "5200cf18",
   "metadata": {},
   "outputs": [],
   "source": [
    "z=range(5,10)\n",
    "for i in z:\n",
    "    if(i%2!=0):\n",
    "        print(i,',',end=' ')"
   ]
  },
  {
   "cell_type": "code",
   "execution_count": null,
   "id": "2cc60a5a",
   "metadata": {},
   "outputs": [],
   "source": [
    "y=range(5,10,2)\n",
    "for i in y:\n",
    "    print(i,' ',end=' ')"
   ]
  },
  {
   "cell_type": "code",
   "execution_count": null,
   "id": "9ef0f927",
   "metadata": {},
   "outputs": [],
   "source": [
    "a=[10,20,30,40,50]\n",
    "# using while loop\n",
    "print(\"Using while loop\")\n",
    "i=0\n",
    "while i<len(a):\n",
    "    print(a[i])\n",
    "    i=i+1\n",
    "#using for loop\n",
    "print(\"Using for loop\")\n",
    "for i in a:\n",
    "    print(i)"
   ]
  },
  {
   "cell_type": "code",
   "execution_count": null,
   "id": "4f884657",
   "metadata": {},
   "outputs": [],
   "source": [
    "a=[10,20,30,40,50]\n",
    "# using while loop\n",
    "print(\"Using while loop\")\n",
    "i=len(a)-1\n",
    "while i>=0:\n",
    "    print(a[i])\n",
    "    i=i-1"
   ]
  },
  {
   "cell_type": "markdown",
   "id": "3e033f44",
   "metadata": {},
   "source": [
    "## Concatenation of two lists"
   ]
  },
  {
   "cell_type": "code",
   "execution_count": null,
   "id": "c53c6883",
   "metadata": {},
   "outputs": [],
   "source": [
    "x=[10,20,30,40]\n",
    "y=[100,120,130]\n",
    "print(x+y)"
   ]
  },
  {
   "cell_type": "markdown",
   "id": "3e2e55af",
   "metadata": {},
   "source": [
    "# Repetition of lists"
   ]
  },
  {
   "cell_type": "code",
   "execution_count": null,
   "id": "4b9fc2ef",
   "metadata": {},
   "outputs": [],
   "source": [
    "print(x*2)"
   ]
  },
  {
   "cell_type": "markdown",
   "id": "d6df0c65",
   "metadata": {},
   "source": [
    "# Membership in the list"
   ]
  },
  {
   "cell_type": "code",
   "execution_count": null,
   "id": "94db3c70",
   "metadata": {},
   "outputs": [],
   "source": [
    "# whether the element is in the list or not\n",
    "x=[1,2,3]\n",
    "a=3\n",
    "print(a in x)\n",
    "print(a not in x)"
   ]
  },
  {
   "cell_type": "markdown",
   "id": "6fd6f763",
   "metadata": {},
   "source": [
    "# Aliasing List vs Cloning the list"
   ]
  },
  {
   "cell_type": "markdown",
   "id": "f32c9ae3",
   "metadata": {},
   "source": [
    "# Aliasing (dependent list)"
   ]
  },
  {
   "cell_type": "code",
   "execution_count": null,
   "id": "8b3aaecb",
   "metadata": {},
   "outputs": [],
   "source": [
    "x=[1,2,3,4]\n",
    "y=x\n",
    "print(x)\n",
    "print(y)"
   ]
  },
  {
   "cell_type": "code",
   "execution_count": null,
   "id": "4c48bced",
   "metadata": {},
   "outputs": [],
   "source": [
    "x[1]=9 \n",
    "print(x)\n",
    "print(y) #effected"
   ]
  },
  {
   "cell_type": "markdown",
   "id": "06e18fe2",
   "metadata": {},
   "source": [
    "# Cloning (independent list)"
   ]
  },
  {
   "cell_type": "code",
   "execution_count": null,
   "id": "15727413",
   "metadata": {},
   "outputs": [],
   "source": [
    "x=[1,2,3,4]\n",
    "y=x[:]\n",
    "print(x)\n",
    "print(y)"
   ]
  },
  {
   "cell_type": "code",
   "execution_count": null,
   "id": "096d46f4",
   "metadata": {},
   "outputs": [],
   "source": [
    "x[1]=9\n",
    "print(x)\n",
    "print(y) # not effected"
   ]
  },
  {
   "cell_type": "markdown",
   "id": "6c242da9",
   "metadata": {},
   "source": [
    "# list processing methods"
   ]
  },
  {
   "cell_type": "code",
   "execution_count": null,
   "id": "ad52b777",
   "metadata": {},
   "outputs": [],
   "source": [
    "n=[1,2,3,4,5]\n",
    "l=len(n)\n",
    "print(\"Length of the string: \",l)"
   ]
  },
  {
   "cell_type": "code",
   "execution_count": null,
   "id": "f411c6b9",
   "metadata": {},
   "outputs": [],
   "source": [
    "n.append(6)\n",
    "print(\"After appending 6: \",n)"
   ]
  },
  {
   "cell_type": "code",
   "execution_count": null,
   "id": "6525bc30",
   "metadata": {},
   "outputs": [],
   "source": [
    "n.insert(0,7)\n",
    "print(\"After inserting 7 at 0th position: \",n)"
   ]
  },
  {
   "cell_type": "code",
   "execution_count": null,
   "id": "9312819b",
   "metadata": {},
   "outputs": [],
   "source": [
    "n1=n.copy()\n",
    "print(\"new list created by using copy():\",n1)"
   ]
  },
  {
   "cell_type": "code",
   "execution_count": null,
   "id": "f38c077c",
   "metadata": {},
   "outputs": [],
   "source": [
    "n.extend(n1)\n",
    "print(\"After using extend() :\",n) # combined list"
   ]
  },
  {
   "cell_type": "code",
   "execution_count": null,
   "id": "5b9df603",
   "metadata": {},
   "outputs": [],
   "source": [
    "x=n.count(5)\n",
    "print(\"no. of times 5 repeted :\",x)"
   ]
  },
  {
   "cell_type": "code",
   "execution_count": null,
   "id": "46709ece",
   "metadata": {},
   "outputs": [],
   "source": [
    "n.remove(5)\n",
    "print(\"After removing 5 from the list:\",n)"
   ]
  },
  {
   "cell_type": "code",
   "execution_count": null,
   "id": "4130e120",
   "metadata": {},
   "outputs": [],
   "source": [
    "n.pop()\n",
    "print(\"After using pop() :\",n)"
   ]
  },
  {
   "cell_type": "code",
   "execution_count": null,
   "id": "9b53bd4d",
   "metadata": {},
   "outputs": [],
   "source": [
    "n.sort()\n",
    "print(\"After using sort() :\",n)"
   ]
  },
  {
   "cell_type": "code",
   "execution_count": null,
   "id": "88644e3e",
   "metadata": {},
   "outputs": [],
   "source": [
    "n.reverse()\n",
    "print(\"After using reverse() :\",n)"
   ]
  },
  {
   "cell_type": "code",
   "execution_count": null,
   "id": "966c5756",
   "metadata": {},
   "outputs": [],
   "source": [
    "n.clear()\n",
    "print(\"After using clear() :\",n)"
   ]
  },
  {
   "cell_type": "markdown",
   "id": "c8322f87",
   "metadata": {},
   "source": [
    "## Program to find max and min elements without using methods"
   ]
  },
  {
   "cell_type": "code",
   "execution_count": null,
   "id": "342f6b5e",
   "metadata": {},
   "outputs": [],
   "source": [
    "# Dynamic list\n",
    "x=[]\n",
    "print(\"How many elements you want in the list:\",end=' ')\n",
    "n=int(input())\n",
    "for i in range(n):\n",
    "    print(\"Enter \",n,\" elements:\",end='')\n",
    "    x.append(int(input()))\n",
    "print(\"The list is :\",x)\n",
    "big=x[0]\n",
    "small=x[0]\n",
    "for i in range(1,n):\n",
    "    if x[i]>big:\n",
    "        big=x[i]\n",
    "    if x[i]<small:\n",
    "        small=x[i]\n",
    "print(\"Maximum element is :\",big)\n",
    "print(\"Minimum element is :\",small)"
   ]
  }
 ],
 "metadata": {
  "kernelspec": {
   "display_name": "Python 3 (ipykernel)",
   "language": "python",
   "name": "python3"
  },
  "language_info": {
   "codemirror_mode": {
    "name": "ipython",
    "version": 3
   },
   "file_extension": ".py",
   "mimetype": "text/x-python",
   "name": "python",
   "nbconvert_exporter": "python",
   "pygments_lexer": "ipython3",
   "version": "3.9.12"
  }
 },
 "nbformat": 4,
 "nbformat_minor": 5
}
