{
 "cells": [
  {
   "cell_type": "markdown",
   "id": "49c6d5b6",
   "metadata": {},
   "source": [
    "# Dictionary"
   ]
  },
  {
   "cell_type": "code",
   "execution_count": null,
   "id": "14fa4c98",
   "metadata": {},
   "outputs": [],
   "source": [
    "dict={\n",
    "    \"brand\":\"honda\",\n",
    "    \"model\":\"amaze\",\n",
    "    \"year\":2017\n",
    "}\n",
    "print(dict)"
   ]
  },
  {
   "cell_type": "code",
   "execution_count": null,
   "id": "33e107d7",
   "metadata": {},
   "outputs": [],
   "source": [
    "print(dict[\"brand\"])"
   ]
  },
  {
   "cell_type": "code",
   "execution_count": null,
   "id": "e2c1b391",
   "metadata": {},
   "outputs": [],
   "source": [
    "#  creation of a dictionary\n",
    "dict={ 'name':'shekar','id':1001,'salary':5000}\n",
    "# Access values by giving names\n",
    "print('Name of employee =',dict['name'])\n",
    "print('Employee id =',dict['id'])\n",
    "print('salary',dict['salary'])\n",
    "print(dict)"
   ]
  },
  {
   "cell_type": "code",
   "execution_count": null,
   "id": "8a4c8bdd",
   "metadata": {},
   "outputs": [],
   "source": [
    "print(type(dict))"
   ]
  },
  {
   "cell_type": "code",
   "execution_count": null,
   "id": "36cf93db",
   "metadata": {},
   "outputs": [],
   "source": [
    "# modify employee salary\n",
    "dict['salary']=10000\n",
    "print(dict)"
   ]
  },
  {
   "cell_type": "code",
   "execution_count": null,
   "id": "f21d5c77",
   "metadata": {},
   "outputs": [],
   "source": [
    "# inserting a new key-value pair into above dict\n",
    "dict['dept']='research'\n",
    "print(dict)"
   ]
  },
  {
   "cell_type": "code",
   "execution_count": null,
   "id": "e42da2c0",
   "metadata": {},
   "outputs": [],
   "source": [
    "# to print the no. of key-value pairs\n",
    "n=len(dict)\n",
    "print('No. of key-value pairs =',n)"
   ]
  },
  {
   "cell_type": "code",
   "execution_count": null,
   "id": "7d329429",
   "metadata": {},
   "outputs": [],
   "source": [
    "# to delete a key-value pair from the dict\n",
    "del dict['dept']\n",
    "print(dict)"
   ]
  },
  {
   "cell_type": "code",
   "execution_count": null,
   "id": "f3a82351",
   "metadata": {},
   "outputs": [],
   "source": [
    "# duplicate will not be allowed [overwrites]\n",
    "dict1={ 'name':'shekar','id':1001,'salary':5000,'salary':10000}\n",
    "print(dict1)"
   ]
  },
  {
   "cell_type": "markdown",
   "id": "81abdb56",
   "metadata": {},
   "source": [
    "# Methods"
   ]
  },
  {
   "cell_type": "code",
   "execution_count": null,
   "id": "471d470a",
   "metadata": {},
   "outputs": [],
   "source": [
    "dict={ 'name':'shekar','id':1001,'salary':5000}\n",
    "print(dict)\n",
    "print('Keys in dict =',dict.keys())\n",
    "print('Keys in dict =',dict.values())\n",
    "print('Keys in dict =',dict.items())"
   ]
  },
  {
   "cell_type": "code",
   "execution_count": null,
   "id": "292babb8",
   "metadata": {},
   "outputs": [],
   "source": [
    "print(dict1)"
   ]
  },
  {
   "cell_type": "code",
   "execution_count": null,
   "id": "f8bf3ec7",
   "metadata": {},
   "outputs": [],
   "source": [
    "dict1.clear()\n",
    "print(dict1)"
   ]
  },
  {
   "cell_type": "code",
   "execution_count": null,
   "id": "25e7910b",
   "metadata": {},
   "outputs": [],
   "source": [
    "print(dict.get('id'))\n",
    "print(dict.get('sal','NA'))\n",
    "print(dict.get('name','NA'))"
   ]
  },
  {
   "cell_type": "code",
   "execution_count": null,
   "id": "fa138e9d",
   "metadata": {},
   "outputs": [],
   "source": [
    "dict.update({'dept':'research'})\n",
    "print(dict)"
   ]
  },
  {
   "cell_type": "code",
   "execution_count": null,
   "id": "35633161",
   "metadata": {},
   "outputs": [],
   "source": [
    "n=dict.pop('dept')\n",
    "print(dict)"
   ]
  },
  {
   "cell_type": "code",
   "execution_count": null,
   "id": "76a07a9c",
   "metadata": {},
   "outputs": [],
   "source": [
    "#program to create a dictionary and find the sum of the values\n",
    "dict2=eval(input('Enter elements in { } :'))\n",
    "# Find the sum of values\n",
    "s=sum(dict2.values())\n",
    "print(\"Sum of values in dictionary :\",s)"
   ]
  },
  {
   "cell_type": "code",
   "execution_count": null,
   "id": "8bb7670d",
   "metadata": {},
   "outputs": [],
   "source": [
    "# Usage of for loop to retrieve dict elements\n",
    "cols={'r':'Red','b':'Blue','g':'Green'}\n",
    "# To display key values\n",
    "for k in cols:\n",
    "    print(k)\n",
    "# To pass keys to dictionary and disply the values\n",
    "for k in cols:\n",
    "    print(cols[k])\n",
    "#  item() returns key and value pair into k,v\n",
    "for k,v in cols.items():\n",
    "    print(k,v)"
   ]
  },
  {
   "cell_type": "code",
   "execution_count": null,
   "id": "fbbf551c",
   "metadata": {},
   "outputs": [],
   "source": []
  }
 ],
 "metadata": {
  "kernelspec": {
   "display_name": "Python 3 (ipykernel)",
   "language": "python",
   "name": "python3"
  },
  "language_info": {
   "codemirror_mode": {
    "name": "ipython",
    "version": 3
   },
   "file_extension": ".py",
   "mimetype": "text/x-python",
   "name": "python",
   "nbconvert_exporter": "python",
   "pygments_lexer": "ipython3",
   "version": "3.9.12"
  }
 },
 "nbformat": 4,
 "nbformat_minor": 5
}
