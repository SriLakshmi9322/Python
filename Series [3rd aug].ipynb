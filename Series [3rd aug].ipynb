{
 "cells": [
  {
   "cell_type": "markdown",
   "id": "913041af",
   "metadata": {},
   "source": [
    "## Creating series from Numpy Array"
   ]
  },
  {
   "cell_type": "code",
   "execution_count": null,
   "id": "f04af588",
   "metadata": {},
   "outputs": [],
   "source": [
    "!pip install pandas"
   ]
  },
  {
   "cell_type": "code",
   "execution_count": null,
   "id": "e9ee46ee",
   "metadata": {},
   "outputs": [],
   "source": [
    "!pip install numpy"
   ]
  },
  {
   "cell_type": "code",
   "execution_count": null,
   "id": "68769830",
   "metadata": {},
   "outputs": [],
   "source": [
    "import numpy as np\n",
    "import pandas as pd"
   ]
  },
  {
   "cell_type": "code",
   "execution_count": null,
   "id": "582718fe",
   "metadata": {},
   "outputs": [],
   "source": [
    "arr = np.array([10,20,30,40])\n",
    "ser = pd.Series(arr)\n",
    "ser"
   ]
  },
  {
   "cell_type": "code",
   "execution_count": null,
   "id": "61449588",
   "metadata": {},
   "outputs": [],
   "source": [
    "print(type(ser))"
   ]
  },
  {
   "cell_type": "code",
   "execution_count": null,
   "id": "d840ba98",
   "metadata": {},
   "outputs": [],
   "source": [
    "# Converting series into numpy array\n",
    "a=ser.values\n",
    "a"
   ]
  },
  {
   "cell_type": "code",
   "execution_count": null,
   "id": "e5113170",
   "metadata": {},
   "outputs": [],
   "source": [
    "# Create series from a dictionary\n",
    "my_dict ={\n",
    "    'name':['Satya','Sai','Ganga','Swamy'],\n",
    "    'age':[40,22,38,19],\n",
    "    'design':['Developer','Tester','CEO','Manager']\n",
    "}\n",
    "# Creating series from the dictionary\n",
    "ser1 = pd.Series(my_dict)\n",
    "ser1"
   ]
  },
  {
   "cell_type": "code",
   "execution_count": null,
   "id": "48e5da9a",
   "metadata": {},
   "outputs": [],
   "source": [
    "# Accessing elements of a series\n",
    "names = ser1['name']\n",
    "names"
   ]
  },
  {
   "cell_type": "code",
   "execution_count": null,
   "id": "dc28ab0e",
   "metadata": {},
   "outputs": [],
   "source": [
    "# To retrieve any name from the list\n",
    "names = ser1['name'][1]\n",
    "names"
   ]
  }
 ],
 "metadata": {
  "kernelspec": {
   "display_name": "Python 3 (ipykernel)",
   "language": "python",
   "name": "python3"
  },
  "language_info": {
   "codemirror_mode": {
    "name": "ipython",
    "version": 3
   },
   "file_extension": ".py",
   "mimetype": "text/x-python",
   "name": "python",
   "nbconvert_exporter": "python",
   "pygments_lexer": "ipython3",
   "version": "3.9.12"
  }
 },
 "nbformat": 4,
 "nbformat_minor": 5
}
